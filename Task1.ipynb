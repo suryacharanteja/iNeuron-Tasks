{
 "cells": [
  {
   "cell_type": "markdown",
   "id": "685ac247",
   "metadata": {},
   "source": [
    "s = \"this is My First Python programming class and i am learNING python string and its function\"\n",
    "1 . Try to extract data from index one to index 300 with a jump of 3 \n",
    "2. Try to reverse a string without using reverse function \n",
    "3. Try to split a string after conversion of entire string in uppercase \n",
    "4. try to convert the whole string into lower case \n",
    "5 . Try to capitalize the whole string \n",
    "6 . Write a diference between isalnum() and isalpha()\n",
    "7. Try to give an example of expand tab\n",
    "8 . Give an example of strip , lstrip and rstrip \n",
    "9.  Replace a string charecter by another charector by taking your own example \n",
    "\"sudhanshu\"\n",
    "10 . Try  to give a defination of string center function with and exmple \n",
    "11 . Write your own definition of compiler and interpretor without copy paste form internet in your own language\n",
    "12 . Python is a interpreted of compiled language give a clear ans with your understanding \n",
    "13 . Try to write a usecase of python with your understanding ."
   ]
  },
  {
   "cell_type": "code",
   "execution_count": 1,
   "id": "ec20b8d6",
   "metadata": {},
   "outputs": [
    {
     "data": {
      "text/plain": [
       "str"
      ]
     },
     "execution_count": 1,
     "metadata": {},
     "output_type": "execute_result"
    }
   ],
   "source": [
    "s = \"this is My First Python programming class and i am learNING python string and its function\"\n",
    "type(s)"
   ]
  },
  {
   "cell_type": "markdown",
   "id": "87043266",
   "metadata": {},
   "source": [
    "### 1 . Try to extract data from index one to index 300 with a jump of 3 \n"
   ]
  },
  {
   "cell_type": "code",
   "execution_count": 2,
   "id": "ee1deca3",
   "metadata": {},
   "outputs": [
    {
     "data": {
      "text/plain": [
       "'h   r tnrrmglsnimeNGyosi dtfco'"
      ]
     },
     "execution_count": 2,
     "metadata": {},
     "output_type": "execute_result"
    }
   ],
   "source": [
    "s[1:300:3]"
   ]
  },
  {
   "cell_type": "markdown",
   "id": "9678005e",
   "metadata": {},
   "source": [
    "### 2. Try to reverse a string without using reverse function \n"
   ]
  },
  {
   "cell_type": "code",
   "execution_count": 3,
   "id": "a93c8f7d",
   "metadata": {},
   "outputs": [
    {
     "data": {
      "text/plain": [
       "'noitcnuf sti dna gnirts nohtyp GNINrael ma i dna ssalc gnimmargorp nohtyP tsriF yM si siht'"
      ]
     },
     "execution_count": 3,
     "metadata": {},
     "output_type": "execute_result"
    }
   ],
   "source": [
    "s[::-1]"
   ]
  },
  {
   "cell_type": "markdown",
   "id": "dc45a066",
   "metadata": {},
   "source": [
    "### 3. Try to split a string after conversion of entire string in uppercase "
   ]
  },
  {
   "cell_type": "code",
   "execution_count": 4,
   "id": "65cda294",
   "metadata": {
    "scrolled": true
   },
   "outputs": [
    {
     "name": "stdout",
     "output_type": "stream",
     "text": [
      "['__add__', '__class__', '__contains__', '__delattr__', '__dir__', '__doc__', '__eq__', '__format__', '__ge__', '__getattribute__', '__getitem__', '__getnewargs__', '__gt__', '__hash__', '__init__', '__init_subclass__', '__iter__', '__le__', '__len__', '__lt__', '__mod__', '__mul__', '__ne__', '__new__', '__reduce__', '__reduce_ex__', '__repr__', '__rmod__', '__rmul__', '__setattr__', '__sizeof__', '__str__', '__subclasshook__', 'capitalize', 'casefold', 'center', 'count', 'encode', 'endswith', 'expandtabs', 'find', 'format', 'format_map', 'index', 'isalnum', 'isalpha', 'isascii', 'isdecimal', 'isdigit', 'isidentifier', 'islower', 'isnumeric', 'isprintable', 'isspace', 'istitle', 'isupper', 'join', 'ljust', 'lower', 'lstrip', 'maketrans', 'partition', 'removeprefix', 'removesuffix', 'replace', 'rfind', 'rindex', 'rjust', 'rpartition', 'rsplit', 'rstrip', 'split', 'splitlines', 'startswith', 'strip', 'swapcase', 'title', 'translate', 'upper', 'zfill']\n"
     ]
    },
    {
     "data": {
      "text/plain": [
       "['THIS',\n",
       " 'IS',\n",
       " 'MY',\n",
       " 'FIRST',\n",
       " 'PYTHON',\n",
       " 'PROGRAMMING',\n",
       " 'CLASS',\n",
       " 'AND',\n",
       " 'I',\n",
       " 'AM',\n",
       " 'LEARNING',\n",
       " 'PYTHON',\n",
       " 'STRING',\n",
       " 'AND',\n",
       " 'ITS',\n",
       " 'FUNCTION']"
      ]
     },
     "execution_count": 4,
     "metadata": {},
     "output_type": "execute_result"
    }
   ],
   "source": [
    "print(dir(s))\n",
    "s.upper().split(' ')"
   ]
  },
  {
   "cell_type": "markdown",
   "id": "a4f73ec6",
   "metadata": {},
   "source": [
    "### 4. try to convert the whole string into lower case \n"
   ]
  },
  {
   "cell_type": "code",
   "execution_count": 5,
   "id": "bdc32837",
   "metadata": {},
   "outputs": [
    {
     "data": {
      "text/plain": [
       "'this is my first python programming class and i am learning python string and its function'"
      ]
     },
     "execution_count": 5,
     "metadata": {},
     "output_type": "execute_result"
    }
   ],
   "source": [
    "s.lower()"
   ]
  },
  {
   "cell_type": "markdown",
   "id": "3e4ce0f0",
   "metadata": {},
   "source": [
    "### 5 . Try to capitalize the whole string "
   ]
  },
  {
   "cell_type": "code",
   "execution_count": 6,
   "id": "80a2eab9",
   "metadata": {},
   "outputs": [
    {
     "data": {
      "text/plain": [
       "'This is my first python programming class and i am learning python string and its function'"
      ]
     },
     "execution_count": 6,
     "metadata": {},
     "output_type": "execute_result"
    }
   ],
   "source": [
    "s.capitalize()"
   ]
  },
  {
   "cell_type": "markdown",
   "id": "b4994715",
   "metadata": {},
   "source": [
    "### 6 . Write a diference between isalnum() and isalpha()\n"
   ]
  },
  {
   "cell_type": "markdown",
   "id": "684a3d6e",
   "metadata": {},
   "source": [
    "##### isalnum()\n",
    "Return True if the string is an alpha-numeric string, False otherwise.\n",
    "A string is alpha-numeric if all characters in the string are alpha-numeric and\n",
    "    there is at least one character in the string.\n",
    "##### isalpha()\n",
    "Return True if the string is an alphabetic string, False otherwise.\n",
    "A string is alphabetic if all characters in the string are alphabetic and there\n",
    "    is at least one character in the string."
   ]
  },
  {
   "cell_type": "markdown",
   "id": "ad1e028e",
   "metadata": {},
   "source": [
    "### 7. Try to give an example of expand tab\n",
    " "
   ]
  },
  {
   "cell_type": "markdown",
   "id": "b4d79c13",
   "metadata": {},
   "source": [
    "###### expandtabs(self, /, tabsize=8)\n",
    "    Return a copy where all tab characters are expanded using spaces.\n",
    "\n",
    "    If tabsize is not given, a tab size of 8 characters is assumed."
   ]
  },
  {
   "cell_type": "code",
   "execution_count": 12,
   "id": "36601c9a",
   "metadata": {},
   "outputs": [
    {
     "data": {
      "text/plain": [
       "'HareKrishna     Harekrishna     KrishnaKrishna  HareHare        HareRama        HareRama        RamaRama        HareHare'"
      ]
     },
     "execution_count": 12,
     "metadata": {},
     "output_type": "execute_result"
    }
   ],
   "source": [
    "Hare_bol = \"HareKrishna\\tHarekrishna\\tKrishnaKrishna\\tHareHare\\tHareRama\\tHareRama\\tRamaRama\\tHareHare\"\n",
    "Hare_bol.expandtabs(16)"
   ]
  },
  {
   "cell_type": "markdown",
   "id": "53e55e80",
   "metadata": {},
   "source": [
    "### 8 . Give an example of strip , lstrip and rstrip "
   ]
  },
  {
   "cell_type": "markdown",
   "id": "aab980ab",
   "metadata": {},
   "source": [
    "##### lstrip(self, chars=None, /)\n",
    "    Return a copy of the string with leading whitespace removed.\n",
    "\n",
    "    If chars is given and not None, remove characters in chars instead."
   ]
  },
  {
   "cell_type": "code",
   "execution_count": 36,
   "id": "7ad518a6",
   "metadata": {},
   "outputs": [
    {
     "name": "stdout",
     "output_type": "stream",
     "text": [
      "SuryaCharan@gmail.com\n",
      "SuryaCharan@gmail.com      \n",
      "     SuryaCharan@gmail.com\n"
     ]
    }
   ],
   "source": [
    "email = '     SuryaCharan@gmail.com      '\n",
    "print(email.strip(' '))\n",
    "print(email.lstrip(' '))\n",
    "print(email.rstrip(' '))"
   ]
  },
  {
   "cell_type": "code",
   "execution_count": 40,
   "id": "53882263",
   "metadata": {
    "scrolled": true
   },
   "outputs": [
    {
     "name": "stdout",
     "output_type": "stream",
     "text": [
      "SuryaCharan@gmail.com\n",
      "SuryaCharan@gmail.com@@@@\n",
      "@@@@@SuryaCharan@gmail.com\n"
     ]
    }
   ],
   "source": [
    "email = '@@@@@SuryaCharan@gmail.com@@@@'\n",
    "print(email.strip('@'))\n",
    "print(email.lstrip('@'))\n",
    "print(email.rstrip('@ '))"
   ]
  },
  {
   "cell_type": "code",
   "execution_count": 43,
   "id": "82258ac5",
   "metadata": {},
   "outputs": [
    {
     "name": "stdout",
     "output_type": "stream",
     "text": [
      "['', '', '', '', '', 'SuryaCharan', 'gmail.com', '', '', '', '']\n"
     ]
    }
   ],
   "source": [
    "print(email.split('@'))"
   ]
  },
  {
   "cell_type": "markdown",
   "id": "5cdc3481",
   "metadata": {},
   "source": [
    "### 9.  Replace a string charecter by another charector by taking your own example \n",
    "\"sudhanshu\""
   ]
  },
  {
   "cell_type": "code",
   "execution_count": 45,
   "id": "fb2b4ea4",
   "metadata": {},
   "outputs": [
    {
     "data": {
      "text/plain": [
       "'Hari Charan'"
      ]
     },
     "execution_count": 45,
     "metadata": {},
     "output_type": "execute_result"
    }
   ],
   "source": [
    "name = \"Hare Charan\"\n",
    "name.replace('e', 'i')"
   ]
  },
  {
   "cell_type": "markdown",
   "id": "ce7bc6ca",
   "metadata": {},
   "source": [
    "### 10 . Try  to give a defination of string center function with and exmple \n",
    "##### center(self, width, fillchar=' ', /)\n",
    "    Return a centered string of length width.\n",
    "\n",
    "    Padding is done using the specified fill character (default is a space).\n"
   ]
  },
  {
   "cell_type": "code",
   "execution_count": 57,
   "id": "ec6b9e52",
   "metadata": {},
   "outputs": [
    {
     "data": {
      "text/plain": [
       "'###################Hare Charan####################'"
      ]
     },
     "execution_count": 57,
     "metadata": {},
     "output_type": "execute_result"
    }
   ],
   "source": [
    "name.center(50, '#')"
   ]
  },
  {
   "cell_type": "markdown",
   "id": "ecdbc69b",
   "metadata": {},
   "source": [
    "### 11 . Write your own definition of compiler and interpretor without copy paste form internet in your own language"
   ]
  },
  {
   "cell_type": "markdown",
   "id": "6bb0c028",
   "metadata": {},
   "source": [
    "a compiler assembles and compiles code and convert it into byte code each time when we execute or run the code.\n",
    "an Interpretor converts the byte code to machine code, "
   ]
  },
  {
   "cell_type": "markdown",
   "id": "005d80cc",
   "metadata": {},
   "source": [
    "### 12 . Python is a interpreted of compiled language give a clear ans with your understanding "
   ]
  },
  {
   "cell_type": "markdown",
   "id": "94508668",
   "metadata": {},
   "source": [
    "Python Machine , for example CPython compiles the code into '.pyc' byte code from source code that we type and finally this code is executed in side the Python Virtual Machine\n",
    "so, Python is Compiled as well as interpreted language"
   ]
  },
  {
   "cell_type": "markdown",
   "id": "70a79f51",
   "metadata": {},
   "source": [
    "### 13 . Try to write a usecase of python with your understanding ."
   ]
  },
  {
   "cell_type": "markdown",
   "id": "3a577394",
   "metadata": {},
   "source": [
    "Backend webdevelopment, Data Science, Data visualization, Machine learnings, game development, API development, Block Chain technology, "
   ]
  },
  {
   "cell_type": "code",
   "execution_count": null,
   "id": "a7ed1702",
   "metadata": {},
   "outputs": [],
   "source": []
  }
 ],
 "metadata": {
  "kernelspec": {
   "display_name": "Python 3 (ipykernel)",
   "language": "python",
   "name": "python3"
  },
  "language_info": {
   "codemirror_mode": {
    "name": "ipython",
    "version": 3
   },
   "file_extension": ".py",
   "mimetype": "text/x-python",
   "name": "python",
   "nbconvert_exporter": "python",
   "pygments_lexer": "ipython3",
   "version": "3.10.2"
  }
 },
 "nbformat": 4,
 "nbformat_minor": 5
}
